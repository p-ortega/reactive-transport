{
 "cells": [
  {
   "cell_type": "code",
   "execution_count": 1,
   "metadata": {},
   "outputs": [
    {
     "name": "stdout",
     "output_type": "stream",
     "text": [
      "flopy is installed in C:\\ProgramData\\Anaconda3\\lib\\site-packages\\flopy\n"
     ]
    }
   ],
   "source": [
    "import os\n",
    "import sys\n",
    "import numpy as np\n",
    "import pickle ##look for this\n",
    "import matplotlib.pyplot as plt\n",
    "import flopy"
   ]
  },
  {
   "cell_type": "code",
   "execution_count": 61,
   "metadata": {},
   "outputs": [],
   "source": [
    "#dis file \n",
    "nlay = 1\n",
    "nrow = 1\n",
    "ncol = 26\n",
    "xext = 0.026\n",
    "yext = 1\n",
    "\n",
    "delr = xext/ncol\n",
    "delc = yext/nrow\n",
    "\n",
    "top = 0.0385\n",
    "bot = 0\n",
    "\n",
    "#time discretisation (first is steady state, the rest is transient)\n",
    "nper = 1\n",
    "perlen = 60*np.ones(1, dtype = np.float32)\n",
    "# perlen[0] = 0\n",
    "nstp = 60*np.ones(1, dtype = np.int32) #n steps in each time\n",
    "# nstp[0] = 1\n",
    "steady = np.ones(1, dtype = np.bool) #define each time as steady state or transient\n",
    "# steady[0] = 1\n",
    "\n",
    "mf = flopy.modflow.Modflow('E42018b-m001', namefile_ext = 'nam', exe_name='mf2005.exe')"
   ]
  },
  {
   "cell_type": "code",
   "execution_count": 62,
   "metadata": {},
   "outputs": [
    {
     "name": "stdout",
     "output_type": "stream",
     "text": [
      "FloPy is using the following  executable to run the model: C:\\Windows\\mf2005.exe\n",
      "\n",
      "                                  MODFLOW-2005     \n",
      "    U.S. GEOLOGICAL SURVEY MODULAR FINITE-DIFFERENCE GROUND-WATER FLOW MODEL\n",
      "                             Version 1.9.01 5/01/2012                        \n",
      "\n",
      " Using NAME file: E42018b-m001.nam \n",
      " Run start date and time (yyyy/mm/dd hh:mm:ss): 2019/12/09 10:36:49\n",
      "\n",
      " Solving:  Stress period:     1    Time step:     1    Ground-Water Flow Eqn.\n",
      " Solving:  Stress period:     1    Time step:     2    Ground-Water Flow Eqn.\n",
      " Solving:  Stress period:     1    Time step:     3    Ground-Water Flow Eqn.\n",
      " Solving:  Stress period:     1    Time step:     4    Ground-Water Flow Eqn.\n",
      " Solving:  Stress period:     1    Time step:     5    Ground-Water Flow Eqn.\n",
      " Solving:  Stress period:     1    Time step:     6    Ground-Water Flow Eqn.\n",
      " Solving:  Stress period:     1    Time step:     7    Ground-Water Flow Eqn.\n",
      " Solving:  Stress period:     1    Time step:     8    Ground-Water Flow Eqn.\n",
      " Solving:  Stress period:     1    Time step:     9    Ground-Water Flow Eqn.\n",
      " Solving:  Stress period:     1    Time step:    10    Ground-Water Flow Eqn.\n",
      " Solving:  Stress period:     1    Time step:    11    Ground-Water Flow Eqn.\n",
      " Solving:  Stress period:     1    Time step:    12    Ground-Water Flow Eqn.\n",
      " Solving:  Stress period:     1    Time step:    13    Ground-Water Flow Eqn.\n",
      " Solving:  Stress period:     1    Time step:    14    Ground-Water Flow Eqn.\n",
      " Solving:  Stress period:     1    Time step:    15    Ground-Water Flow Eqn.\n",
      " Solving:  Stress period:     1    Time step:    16    Ground-Water Flow Eqn.\n",
      " Solving:  Stress period:     1    Time step:    17    Ground-Water Flow Eqn.\n",
      " Solving:  Stress period:     1    Time step:    18    Ground-Water Flow Eqn.\n",
      " Solving:  Stress period:     1    Time step:    19    Ground-Water Flow Eqn.\n",
      " Solving:  Stress period:     1    Time step:    20    Ground-Water Flow Eqn.\n",
      " Solving:  Stress period:     1    Time step:    21    Ground-Water Flow Eqn.\n",
      " Solving:  Stress period:     1    Time step:    22    Ground-Water Flow Eqn.\n",
      " Solving:  Stress period:     1    Time step:    23    Ground-Water Flow Eqn.\n",
      " Solving:  Stress period:     1    Time step:    24    Ground-Water Flow Eqn.\n",
      " Solving:  Stress period:     1    Time step:    25    Ground-Water Flow Eqn.\n",
      " Solving:  Stress period:     1    Time step:    26    Ground-Water Flow Eqn.\n",
      " Solving:  Stress period:     1    Time step:    27    Ground-Water Flow Eqn.\n",
      " Solving:  Stress period:     1    Time step:    28    Ground-Water Flow Eqn.\n",
      " Solving:  Stress period:     1    Time step:    29    Ground-Water Flow Eqn.\n",
      " Solving:  Stress period:     1    Time step:    30    Ground-Water Flow Eqn.\n",
      " Solving:  Stress period:     1    Time step:    31    Ground-Water Flow Eqn.\n",
      " Solving:  Stress period:     1    Time step:    32    Ground-Water Flow Eqn.\n",
      " Solving:  Stress period:     1    Time step:    33    Ground-Water Flow Eqn.\n",
      " Solving:  Stress period:     1    Time step:    34    Ground-Water Flow Eqn.\n",
      " Solving:  Stress period:     1    Time step:    35    Ground-Water Flow Eqn.\n",
      " Solving:  Stress period:     1    Time step:    36    Ground-Water Flow Eqn.\n",
      " Solving:  Stress period:     1    Time step:    37    Ground-Water Flow Eqn.\n",
      " Solving:  Stress period:     1    Time step:    38    Ground-Water Flow Eqn.\n",
      " Solving:  Stress period:     1    Time step:    39    Ground-Water Flow Eqn.\n",
      " Solving:  Stress period:     1    Time step:    40    Ground-Water Flow Eqn.\n",
      " Solving:  Stress period:     1    Time step:    41    Ground-Water Flow Eqn.\n",
      " Solving:  Stress period:     1    Time step:    42    Ground-Water Flow Eqn.\n",
      " Solving:  Stress period:     1    Time step:    43    Ground-Water Flow Eqn.\n",
      " Solving:  Stress period:     1    Time step:    44    Ground-Water Flow Eqn.\n",
      " Solving:  Stress period:     1    Time step:    45    Ground-Water Flow Eqn.\n",
      " Solving:  Stress period:     1    Time step:    46    Ground-Water Flow Eqn.\n",
      " Solving:  Stress period:     1    Time step:    47    Ground-Water Flow Eqn.\n",
      " Solving:  Stress period:     1    Time step:    48    Ground-Water Flow Eqn.\n",
      " Solving:  Stress period:     1    Time step:    49    Ground-Water Flow Eqn.\n",
      " Solving:  Stress period:     1    Time step:    50    Ground-Water Flow Eqn.\n",
      " Solving:  Stress period:     1    Time step:    51    Ground-Water Flow Eqn.\n",
      " Solving:  Stress period:     1    Time step:    52    Ground-Water Flow Eqn.\n",
      " Solving:  Stress period:     1    Time step:    53    Ground-Water Flow Eqn.\n",
      " Solving:  Stress period:     1    Time step:    54    Ground-Water Flow Eqn.\n",
      " Solving:  Stress period:     1    Time step:    55    Ground-Water Flow Eqn.\n",
      " Solving:  Stress period:     1    Time step:    56    Ground-Water Flow Eqn.\n",
      " Solving:  Stress period:     1    Time step:    57    Ground-Water Flow Eqn.\n",
      " Solving:  Stress period:     1    Time step:    58    Ground-Water Flow Eqn.\n",
      " Solving:  Stress period:     1    Time step:    59    Ground-Water Flow Eqn.\n",
      " Solving:  Stress period:     1    Time step:    60    Ground-Water Flow Eqn.\n",
      " Run end date and time (yyyy/mm/dd hh:mm:ss): 2019/12/09 10:36:49\n",
      " Elapsed run time:  0.015 Seconds\n",
      "\n",
      "  Normal termination of simulation\n"
     ]
    }
   ],
   "source": [
    "#create disfile\n",
    "dis = flopy.modflow.ModflowDis(mf, nlay = nlay, nrow= nrow, ncol = ncol, delr = delr, delc = delc,\n",
    "                               top = top, botm = bot, nper = nper, perlen = perlen, nstp = nstp, steady = steady)\n",
    "\n",
    "#create bas file\n",
    "ibound = 1\n",
    "strt = 0.0385\n",
    "bas = flopy.modflow.ModflowBas(mf, ibound = ibound, strt = strt)\n",
    "\n",
    "# Create layer-properties file LPF\n",
    "\n",
    "hk = 1e-10\n",
    "vka = 1.0\n",
    "sy = 0.25\n",
    "ss = 3.5E-06\n",
    "laytyp = 0\n",
    "lpf = flopy.modflow.ModflowLpf(mf, hk = hk, vka = vka, sy = sy, ss = ss, laytyp = laytyp, ipakcb = 53)\n",
    "\n",
    "# Create output control file\n",
    "ocdata = {}\n",
    "for kper in range(nper):\n",
    "    for kstp in range(nstp[kper]):\n",
    "        ocdata[(kper, kstp)] = ['save head', 'save drawdown', 'save budget']\n",
    "oc = flopy.modflow.ModflowOc(mf, stress_period_data = ocdata, compact = True)\n",
    "\n",
    "# #well data\n",
    "# welldata = pickle.load(open('lists/wel.pkl', 'rb'))\n",
    "# wel = flopy.modflow.ModflowWel(mf, stress_period_data = welldata, ipakcb = 53)\n",
    "\n",
    "# #recharge data\n",
    "# rch = np.loadtxt('arrays/rch-initial.txt')\n",
    "# rch = flopy.modflow.ModflowRch(mf, rech = rch, ipakcb = 53)\n",
    "\n",
    "# #et data\n",
    "# exdp = 3\n",
    "# refet = np.loadtxt('arrays/refET.txt')\n",
    "# evt = flopy.modflow.ModflowEvt(mf, surf = top, evtr = refet, exdp = exdp, ipakcb = 53)\n",
    "\n",
    "# PCG solver file\n",
    "pcg = flopy.modflow.ModflowPcg(mf, hclose = 1.0E-03, rclose = 1.0E-02)\n",
    "\n",
    "# # input observations\n",
    "# obsdat = np.loadtxt('lists/head-obs.txt')\n",
    "# type(obsdat[:,4])\n",
    "# time_series_data = np.column_stack((obsdat[:,0], obsdat[:,4]))\n",
    "# obs01 = flopy.modflow.HeadObservation(mf, layer = 0, row = 56, column = 164,\n",
    "#                                              obsname = 'obs01', irefsp = 2, time_series_data = time_series_data)\n",
    "# hob = flopy.modflow.ModflowHob(mf, iuhobsv = 61, hobdry = -8888.88, obs_data = obs01)\n",
    "\n",
    "mf.write_input()\n",
    "\n",
    "success, mfoutput = mf.run_model(silent = False, pause = False, report = True)"
   ]
  },
  {
   "cell_type": "code",
   "execution_count": 63,
   "metadata": {},
   "outputs": [],
   "source": [
    "# Extract heads\n",
    "headobj = flopy.utils.binaryfile.HeadFile('E42018b-m001.hds')\n",
    "times = headobj.get_times()"
   ]
  },
  {
   "cell_type": "code",
   "execution_count": 64,
   "metadata": {},
   "outputs": [
    {
     "name": "stdout",
     "output_type": "stream",
     "text": [
      "[[[0.0385 0.0385 0.0385 0.0385 0.0385 0.0385 0.0385 0.0385 0.0385 0.0385\n",
      "   0.0385 0.0385 0.0385 0.0385 0.0385 0.0385 0.0385 0.0385 0.0385 0.0385\n",
      "   0.0385 0.0385 0.0385 0.0385 0.0385 0.0385]]]\n"
     ]
    },
    {
     "name": "stderr",
     "output_type": "stream",
     "text": [
      "C:\\ProgramData\\Anaconda3\\lib\\site-packages\\flopy\\plot\\crosssection.py:764: PendingDeprecationWarning: ModelCrossSection will be replaced by PlotCrossSection(), Calling PlotCrossSection()\n",
      "  warnings.warn(err_msg, PendingDeprecationWarning)\n"
     ]
    },
    {
     "data": {
      "text/plain": [
       "<Figure size 432x288 with 0 Axes>"
      ]
     },
     "metadata": {},
     "output_type": "display_data"
    },
    {
     "data": {
      "image/png": "[encoded data removed]",
      "text/plain": [
       "<Figure size 1080x432 with 1 Axes>"
      ]
     },
     "metadata": {
      "needs_background": "light"
     },
     "output_type": "display_data"
    }
   ],
   "source": [
    "# Plot heads\n",
    "f = plt.figure()\n",
    "plotper = [(0,0), (1,0), (30,0), (59,0)]\n",
    "print(headobj.get_data(kstpkper = (1,0)))\n",
    "# for iper in range(4):\n",
    "#     heads = headobj.get_data(kstpkper = plotper[iper])\n",
    "#     hmin = heads.min\n",
    "#     hmax = heads.max\n",
    "#     print(type(hmin))\n",
    "# #     levels= np.linspace(hmin, hmax, 13)\n",
    "#     plt.subplot(2, 2, iper + 1)\n",
    "#     modelmap = flopy.plot.ModelMap(model = mf)\n",
    "#     hm = modelmap.plot_array(heads)\n",
    "# #     cm = modelmap.contour_array(heads, colors = 'k')\n",
    "#     plt.title('E42018b-m001 heads')\n",
    "\n",
    "fig = plt.figure(figsize=(15, 6))\n",
    "ax = fig.add_subplot(1, 1, 1)\n",
    "# Next we create an instance of the ModelCrossSection class\n",
    "# modelxsect = flopy.plot.ModelCrossSection(model=mf, line={'Column': 5})\n",
    "modelxsect = flopy.plot.ModelCrossSection(model=mf, line={'Row': 0})\n",
    "\n",
    "# Then we can use the plot_grid() method to draw the grid\n",
    "# The return value for this function is a matplotlib LineCollection object,\n",
    "# which could be manipulated (or used) later if necessary.\n",
    "linecollection = modelxsect.plot_grid(linewidth=0.4)\n",
    "t = ax.set_title('Cross-Section - Model Grid')"
   ]
  },
  {
   "cell_type": "code",
   "execution_count": null,
   "metadata": {},
   "outputs": [],
   "source": []
  }
 ],
 "metadata": {
  "kernelspec": {
   "display_name": "Python 3",
   "language": "python",
   "name": "python3"
  },
  "language_info": {
   "codemirror_mode": {
    "name": "ipython",
    "version": 3
   },
   "file_extension": ".py",
   "mimetype": "text/x-python",
   "name": "python",
   "nbconvert_exporter": "python",
   "pygments_lexer": "ipython3",
   "version": "3.7.3"
  }
 },
 "nbformat": 4,
 "nbformat_minor": 2
}
